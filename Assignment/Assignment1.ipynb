{
 "cells": [
  {
   "cell_type": "markdown",
   "metadata": {},
   "source": [
    "# Download"
   ]
  },
  {
   "cell_type": "code",
   "execution_count": 3,
   "metadata": {},
   "outputs": [],
   "source": [
    "from urllib.request import urlretrieve"
   ]
  },
  {
   "cell_type": "code",
   "execution_count": 4,
   "metadata": {},
   "outputs": [],
   "source": [
    "db_url = 'https://github.com/lerocha/chinook-database/raw/master/ChinookDatabase/DataSources/Chinook_Sqlite.sqlite'"
   ]
  },
  {
   "cell_type": "code",
   "execution_count": 5,
   "metadata": {},
   "outputs": [
    {
     "data": {
      "text/plain": [
       "('chinook.sqlite', <http.client.HTTPMessage at 0x1add7738b90>)"
      ]
     },
     "execution_count": 5,
     "metadata": {},
     "output_type": "execute_result"
    }
   ],
   "source": [
    "urlretrieve(db_url, 'chinook.sqlite')"
   ]
  },
  {
   "cell_type": "markdown",
   "metadata": {},
   "source": [
    "# Interact with the database by writing SQL queries"
   ]
  },
  {
   "cell_type": "code",
   "execution_count": 6,
   "metadata": {},
   "outputs": [],
   "source": [
    "!pip install ipython-sql --quiet --upgrade\n",
    "!pip install sqlalchemy --quiet --upgrade"
   ]
  },
  {
   "cell_type": "code",
   "execution_count": 7,
   "metadata": {},
   "outputs": [],
   "source": [
    "%load_ext sql"
   ]
  },
  {
   "cell_type": "code",
   "execution_count": 8,
   "metadata": {},
   "outputs": [],
   "source": [
    "%%sql \n",
    "\n",
    "sqlite:///chinook.sqlite"
   ]
  },
  {
   "cell_type": "code",
   "execution_count": 9,
   "metadata": {},
   "outputs": [
    {
     "name": "stdout",
     "output_type": "stream",
     "text": [
      " * sqlite:///chinook.sqlite\n",
      "Done.\n"
     ]
    },
    {
     "data": {
      "text/html": [
       "<table>\n",
       "    <thead>\n",
       "        <tr>\n",
       "            <th>ArtistId</th>\n",
       "            <th>Name</th>\n",
       "        </tr>\n",
       "    </thead>\n",
       "    <tbody>\n",
       "        <tr>\n",
       "            <td>1</td>\n",
       "            <td>AC/DC</td>\n",
       "        </tr>\n",
       "        <tr>\n",
       "            <td>2</td>\n",
       "            <td>Accept</td>\n",
       "        </tr>\n",
       "        <tr>\n",
       "            <td>3</td>\n",
       "            <td>Aerosmith</td>\n",
       "        </tr>\n",
       "        <tr>\n",
       "            <td>4</td>\n",
       "            <td>Alanis Morissette</td>\n",
       "        </tr>\n",
       "        <tr>\n",
       "            <td>5</td>\n",
       "            <td>Alice In Chains</td>\n",
       "        </tr>\n",
       "    </tbody>\n",
       "</table>"
      ],
      "text/plain": [
       "[(1, 'AC/DC'),\n",
       " (2, 'Accept'),\n",
       " (3, 'Aerosmith'),\n",
       " (4, 'Alanis Morissette'),\n",
       " (5, 'Alice In Chains')]"
      ]
     },
     "execution_count": 9,
     "metadata": {},
     "output_type": "execute_result"
    }
   ],
   "source": [
    "%%sql \n",
    "\n",
    "SELECT * FROM Artist LIMIT 5"
   ]
  },
  {
   "cell_type": "code",
   "execution_count": 10,
   "metadata": {},
   "outputs": [
    {
     "name": "stdout",
     "output_type": "stream",
     "text": [
      " * sqlite:///chinook.sqlite\n",
      "Done.\n"
     ]
    },
    {
     "data": {
      "text/html": [
       "<table>\n",
       "    <thead>\n",
       "        <tr>\n",
       "            <th>AlbumId</th>\n",
       "            <th>Title</th>\n",
       "            <th>ArtistId</th>\n",
       "        </tr>\n",
       "    </thead>\n",
       "    <tbody>\n",
       "        <tr>\n",
       "            <td>1</td>\n",
       "            <td>For Those About To Rock We Salute You</td>\n",
       "            <td>1</td>\n",
       "        </tr>\n",
       "        <tr>\n",
       "            <td>2</td>\n",
       "            <td>Balls to the Wall</td>\n",
       "            <td>2</td>\n",
       "        </tr>\n",
       "        <tr>\n",
       "            <td>3</td>\n",
       "            <td>Restless and Wild</td>\n",
       "            <td>2</td>\n",
       "        </tr>\n",
       "        <tr>\n",
       "            <td>4</td>\n",
       "            <td>Let There Be Rock</td>\n",
       "            <td>1</td>\n",
       "        </tr>\n",
       "        <tr>\n",
       "            <td>5</td>\n",
       "            <td>Big Ones</td>\n",
       "            <td>3</td>\n",
       "        </tr>\n",
       "    </tbody>\n",
       "</table>"
      ],
      "text/plain": [
       "[(1, 'For Those About To Rock We Salute You', 1),\n",
       " (2, 'Balls to the Wall', 2),\n",
       " (3, 'Restless and Wild', 2),\n",
       " (4, 'Let There Be Rock', 1),\n",
       " (5, 'Big Ones', 3)]"
      ]
     },
     "execution_count": 10,
     "metadata": {},
     "output_type": "execute_result"
    }
   ],
   "source": [
    "%%sql \n",
    "\n",
    "SELECT * FROM Album LIMIT 5"
   ]
  },
  {
   "cell_type": "markdown",
   "metadata": {},
   "source": [
    "# Assignment"
   ]
  },
  {
   "cell_type": "markdown",
   "metadata": {},
   "source": [
    "## Selection and Ordering"
   ]
  },
  {
   "cell_type": "markdown",
   "metadata": {},
   "source": [
    "> **QUESTION 1**: Write a SQL query to sort the rows from the table Track in alphabetical order of Track name and display the first 10 rows."
   ]
  },
  {
   "cell_type": "code",
   "execution_count": 11,
   "metadata": {},
   "outputs": [
    {
     "name": "stdout",
     "output_type": "stream",
     "text": [
      " * sqlite:///chinook.sqlite\n",
      "Done.\n"
     ]
    },
    {
     "data": {
      "text/html": [
       "<table>\n",
       "    <thead>\n",
       "        <tr>\n",
       "            <th>TrackId</th>\n",
       "            <th>Name</th>\n",
       "            <th>AlbumId</th>\n",
       "            <th>MediaTypeId</th>\n",
       "            <th>GenreId</th>\n",
       "            <th>Composer</th>\n",
       "            <th>Milliseconds</th>\n",
       "            <th>Bytes</th>\n",
       "            <th>UnitPrice</th>\n",
       "        </tr>\n",
       "    </thead>\n",
       "    <tbody>\n",
       "        <tr>\n",
       "            <td>1</td>\n",
       "            <td>For Those About To Rock (We Salute You)</td>\n",
       "            <td>1</td>\n",
       "            <td>1</td>\n",
       "            <td>1</td>\n",
       "            <td>Angus Young, Malcolm Young, Brian Johnson</td>\n",
       "            <td>343719</td>\n",
       "            <td>11170334</td>\n",
       "            <td>0.99</td>\n",
       "        </tr>\n",
       "        <tr>\n",
       "            <td>2</td>\n",
       "            <td>Balls to the Wall</td>\n",
       "            <td>2</td>\n",
       "            <td>2</td>\n",
       "            <td>1</td>\n",
       "            <td>None</td>\n",
       "            <td>342562</td>\n",
       "            <td>5510424</td>\n",
       "            <td>0.99</td>\n",
       "        </tr>\n",
       "        <tr>\n",
       "            <td>3</td>\n",
       "            <td>Fast As a Shark</td>\n",
       "            <td>3</td>\n",
       "            <td>2</td>\n",
       "            <td>1</td>\n",
       "            <td>F. Baltes, S. Kaufman, U. Dirkscneider &amp; W. Hoffman</td>\n",
       "            <td>230619</td>\n",
       "            <td>3990994</td>\n",
       "            <td>0.99</td>\n",
       "        </tr>\n",
       "        <tr>\n",
       "            <td>4</td>\n",
       "            <td>Restless and Wild</td>\n",
       "            <td>3</td>\n",
       "            <td>2</td>\n",
       "            <td>1</td>\n",
       "            <td>F. Baltes, R.A. Smith-Diesel, S. Kaufman, U. Dirkscneider &amp; W. Hoffman</td>\n",
       "            <td>252051</td>\n",
       "            <td>4331779</td>\n",
       "            <td>0.99</td>\n",
       "        </tr>\n",
       "        <tr>\n",
       "            <td>5</td>\n",
       "            <td>Princess of the Dawn</td>\n",
       "            <td>3</td>\n",
       "            <td>2</td>\n",
       "            <td>1</td>\n",
       "            <td>Deaffy &amp; R.A. Smith-Diesel</td>\n",
       "            <td>375418</td>\n",
       "            <td>6290521</td>\n",
       "            <td>0.99</td>\n",
       "        </tr>\n",
       "        <tr>\n",
       "            <td>6</td>\n",
       "            <td>Put The Finger On You</td>\n",
       "            <td>1</td>\n",
       "            <td>1</td>\n",
       "            <td>1</td>\n",
       "            <td>Angus Young, Malcolm Young, Brian Johnson</td>\n",
       "            <td>205662</td>\n",
       "            <td>6713451</td>\n",
       "            <td>0.99</td>\n",
       "        </tr>\n",
       "        <tr>\n",
       "            <td>7</td>\n",
       "            <td>Let&#x27;s Get It Up</td>\n",
       "            <td>1</td>\n",
       "            <td>1</td>\n",
       "            <td>1</td>\n",
       "            <td>Angus Young, Malcolm Young, Brian Johnson</td>\n",
       "            <td>233926</td>\n",
       "            <td>7636561</td>\n",
       "            <td>0.99</td>\n",
       "        </tr>\n",
       "        <tr>\n",
       "            <td>8</td>\n",
       "            <td>Inject The Venom</td>\n",
       "            <td>1</td>\n",
       "            <td>1</td>\n",
       "            <td>1</td>\n",
       "            <td>Angus Young, Malcolm Young, Brian Johnson</td>\n",
       "            <td>210834</td>\n",
       "            <td>6852860</td>\n",
       "            <td>0.99</td>\n",
       "        </tr>\n",
       "        <tr>\n",
       "            <td>9</td>\n",
       "            <td>Snowballed</td>\n",
       "            <td>1</td>\n",
       "            <td>1</td>\n",
       "            <td>1</td>\n",
       "            <td>Angus Young, Malcolm Young, Brian Johnson</td>\n",
       "            <td>203102</td>\n",
       "            <td>6599424</td>\n",
       "            <td>0.99</td>\n",
       "        </tr>\n",
       "        <tr>\n",
       "            <td>10</td>\n",
       "            <td>Evil Walks</td>\n",
       "            <td>1</td>\n",
       "            <td>1</td>\n",
       "            <td>1</td>\n",
       "            <td>Angus Young, Malcolm Young, Brian Johnson</td>\n",
       "            <td>263497</td>\n",
       "            <td>8611245</td>\n",
       "            <td>0.99</td>\n",
       "        </tr>\n",
       "    </tbody>\n",
       "</table>"
      ],
      "text/plain": [
       "[(1, 'For Those About To Rock (We Salute You)', 1, 1, 1, 'Angus Young, Malcolm Young, Brian Johnson', 343719, 11170334, 0.99),\n",
       " (2, 'Balls to the Wall', 2, 2, 1, None, 342562, 5510424, 0.99),\n",
       " (3, 'Fast As a Shark', 3, 2, 1, 'F. Baltes, S. Kaufman, U. Dirkscneider & W. Hoffman', 230619, 3990994, 0.99),\n",
       " (4, 'Restless and Wild', 3, 2, 1, 'F. Baltes, R.A. Smith-Diesel, S. Kaufman, U. Dirkscneider & W. Hoffman', 252051, 4331779, 0.99),\n",
       " (5, 'Princess of the Dawn', 3, 2, 1, 'Deaffy & R.A. Smith-Diesel', 375418, 6290521, 0.99),\n",
       " (6, 'Put The Finger On You', 1, 1, 1, 'Angus Young, Malcolm Young, Brian Johnson', 205662, 6713451, 0.99),\n",
       " (7, \"Let's Get It Up\", 1, 1, 1, 'Angus Young, Malcolm Young, Brian Johnson', 233926, 7636561, 0.99),\n",
       " (8, 'Inject The Venom', 1, 1, 1, 'Angus Young, Malcolm Young, Brian Johnson', 210834, 6852860, 0.99),\n",
       " (9, 'Snowballed', 1, 1, 1, 'Angus Young, Malcolm Young, Brian Johnson', 203102, 6599424, 0.99),\n",
       " (10, 'Evil Walks', 1, 1, 1, 'Angus Young, Malcolm Young, Brian Johnson', 263497, 8611245, 0.99)]"
      ]
     },
     "execution_count": 11,
     "metadata": {},
     "output_type": "execute_result"
    }
   ],
   "source": [
    "%%sql\n",
    "\n",
    "SELECT * FROM Track LIMIT 10"
   ]
  },
  {
   "cell_type": "markdown",
   "metadata": {},
   "source": [
    "Write a SQL query to show the next 10 rows based on the above criteria."
   ]
  },
  {
   "cell_type": "code",
   "execution_count": 13,
   "metadata": {},
   "outputs": [
    {
     "name": "stdout",
     "output_type": "stream",
     "text": [
      " * sqlite:///chinook.sqlite\n",
      "Done.\n"
     ]
    },
    {
     "data": {
      "text/html": [
       "<table>\n",
       "    <thead>\n",
       "        <tr>\n",
       "            <th>TrackId</th>\n",
       "            <th>Name</th>\n",
       "            <th>AlbumId</th>\n",
       "            <th>MediaTypeId</th>\n",
       "            <th>GenreId</th>\n",
       "            <th>Composer</th>\n",
       "            <th>Milliseconds</th>\n",
       "            <th>Bytes</th>\n",
       "            <th>UnitPrice</th>\n",
       "        </tr>\n",
       "    </thead>\n",
       "    <tbody>\n",
       "        <tr>\n",
       "            <td>11</td>\n",
       "            <td>C.O.D.</td>\n",
       "            <td>1</td>\n",
       "            <td>1</td>\n",
       "            <td>1</td>\n",
       "            <td>Angus Young, Malcolm Young, Brian Johnson</td>\n",
       "            <td>199836</td>\n",
       "            <td>6566314</td>\n",
       "            <td>0.99</td>\n",
       "        </tr>\n",
       "        <tr>\n",
       "            <td>12</td>\n",
       "            <td>Breaking The Rules</td>\n",
       "            <td>1</td>\n",
       "            <td>1</td>\n",
       "            <td>1</td>\n",
       "            <td>Angus Young, Malcolm Young, Brian Johnson</td>\n",
       "            <td>263288</td>\n",
       "            <td>8596840</td>\n",
       "            <td>0.99</td>\n",
       "        </tr>\n",
       "        <tr>\n",
       "            <td>13</td>\n",
       "            <td>Night Of The Long Knives</td>\n",
       "            <td>1</td>\n",
       "            <td>1</td>\n",
       "            <td>1</td>\n",
       "            <td>Angus Young, Malcolm Young, Brian Johnson</td>\n",
       "            <td>205688</td>\n",
       "            <td>6706347</td>\n",
       "            <td>0.99</td>\n",
       "        </tr>\n",
       "        <tr>\n",
       "            <td>14</td>\n",
       "            <td>Spellbound</td>\n",
       "            <td>1</td>\n",
       "            <td>1</td>\n",
       "            <td>1</td>\n",
       "            <td>Angus Young, Malcolm Young, Brian Johnson</td>\n",
       "            <td>270863</td>\n",
       "            <td>8817038</td>\n",
       "            <td>0.99</td>\n",
       "        </tr>\n",
       "        <tr>\n",
       "            <td>15</td>\n",
       "            <td>Go Down</td>\n",
       "            <td>4</td>\n",
       "            <td>1</td>\n",
       "            <td>1</td>\n",
       "            <td>AC/DC</td>\n",
       "            <td>331180</td>\n",
       "            <td>10847611</td>\n",
       "            <td>0.99</td>\n",
       "        </tr>\n",
       "        <tr>\n",
       "            <td>16</td>\n",
       "            <td>Dog Eat Dog</td>\n",
       "            <td>4</td>\n",
       "            <td>1</td>\n",
       "            <td>1</td>\n",
       "            <td>AC/DC</td>\n",
       "            <td>215196</td>\n",
       "            <td>7032162</td>\n",
       "            <td>0.99</td>\n",
       "        </tr>\n",
       "        <tr>\n",
       "            <td>17</td>\n",
       "            <td>Let There Be Rock</td>\n",
       "            <td>4</td>\n",
       "            <td>1</td>\n",
       "            <td>1</td>\n",
       "            <td>AC/DC</td>\n",
       "            <td>366654</td>\n",
       "            <td>12021261</td>\n",
       "            <td>0.99</td>\n",
       "        </tr>\n",
       "        <tr>\n",
       "            <td>18</td>\n",
       "            <td>Bad Boy Boogie</td>\n",
       "            <td>4</td>\n",
       "            <td>1</td>\n",
       "            <td>1</td>\n",
       "            <td>AC/DC</td>\n",
       "            <td>267728</td>\n",
       "            <td>8776140</td>\n",
       "            <td>0.99</td>\n",
       "        </tr>\n",
       "        <tr>\n",
       "            <td>19</td>\n",
       "            <td>Problem Child</td>\n",
       "            <td>4</td>\n",
       "            <td>1</td>\n",
       "            <td>1</td>\n",
       "            <td>AC/DC</td>\n",
       "            <td>325041</td>\n",
       "            <td>10617116</td>\n",
       "            <td>0.99</td>\n",
       "        </tr>\n",
       "        <tr>\n",
       "            <td>20</td>\n",
       "            <td>Overdose</td>\n",
       "            <td>4</td>\n",
       "            <td>1</td>\n",
       "            <td>1</td>\n",
       "            <td>AC/DC</td>\n",
       "            <td>369319</td>\n",
       "            <td>12066294</td>\n",
       "            <td>0.99</td>\n",
       "        </tr>\n",
       "    </tbody>\n",
       "</table>"
      ],
      "text/plain": [
       "[(11, 'C.O.D.', 1, 1, 1, 'Angus Young, Malcolm Young, Brian Johnson', 199836, 6566314, 0.99),\n",
       " (12, 'Breaking The Rules', 1, 1, 1, 'Angus Young, Malcolm Young, Brian Johnson', 263288, 8596840, 0.99),\n",
       " (13, 'Night Of The Long Knives', 1, 1, 1, 'Angus Young, Malcolm Young, Brian Johnson', 205688, 6706347, 0.99),\n",
       " (14, 'Spellbound', 1, 1, 1, 'Angus Young, Malcolm Young, Brian Johnson', 270863, 8817038, 0.99),\n",
       " (15, 'Go Down', 4, 1, 1, 'AC/DC', 331180, 10847611, 0.99),\n",
       " (16, 'Dog Eat Dog', 4, 1, 1, 'AC/DC', 215196, 7032162, 0.99),\n",
       " (17, 'Let There Be Rock', 4, 1, 1, 'AC/DC', 366654, 12021261, 0.99),\n",
       " (18, 'Bad Boy Boogie', 4, 1, 1, 'AC/DC', 267728, 8776140, 0.99),\n",
       " (19, 'Problem Child', 4, 1, 1, 'AC/DC', 325041, 10617116, 0.99),\n",
       " (20, 'Overdose', 4, 1, 1, 'AC/DC', 369319, 12066294, 0.99)]"
      ]
     },
     "execution_count": 13,
     "metadata": {},
     "output_type": "execute_result"
    }
   ],
   "source": [
    "%%sql\n",
    "\n",
    "SELECT * FROM Track LIMIT 10 offset 10"
   ]
  },
  {
   "cell_type": "markdown",
   "metadata": {},
   "source": [
    "## Counting"
   ]
  },
  {
   "cell_type": "markdown",
   "metadata": {},
   "source": [
    "> **QUESTION 2**: Write a SQL query to calculate the total number of employees working at Chinook."
   ]
  },
  {
   "cell_type": "code",
   "execution_count": 14,
   "metadata": {},
   "outputs": [
    {
     "name": "stdout",
     "output_type": "stream",
     "text": [
      " * sqlite:///chinook.sqlite\n",
      "Done.\n"
     ]
    },
    {
     "data": {
      "text/html": [
       "<table>\n",
       "    <thead>\n",
       "        <tr>\n",
       "            <th>count(employeeId)</th>\n",
       "        </tr>\n",
       "    </thead>\n",
       "    <tbody>\n",
       "        <tr>\n",
       "            <td>8</td>\n",
       "        </tr>\n",
       "    </tbody>\n",
       "</table>"
      ],
      "text/plain": [
       "[(8,)]"
      ]
     },
     "execution_count": 14,
     "metadata": {},
     "output_type": "execute_result"
    }
   ],
   "source": [
    "%%sql\n",
    "\n",
    "select count(employeeId) from Employee"
   ]
  },
  {
   "cell_type": "markdown",
   "metadata": {},
   "source": [
    "Write SQL queries to calculate the total number customers, total number of artists and total number of tracks in the database."
   ]
  },
  {
   "cell_type": "code",
   "execution_count": 16,
   "metadata": {},
   "outputs": [
    {
     "name": "stdout",
     "output_type": "stream",
     "text": [
      " * sqlite:///chinook.sqlite\n",
      "Done.\n"
     ]
    },
    {
     "data": {
      "text/html": [
       "<table>\n",
       "    <thead>\n",
       "        <tr>\n",
       "            <th>count(customerId)</th>\n",
       "        </tr>\n",
       "    </thead>\n",
       "    <tbody>\n",
       "        <tr>\n",
       "            <td>59</td>\n",
       "        </tr>\n",
       "    </tbody>\n",
       "</table>"
      ],
      "text/plain": [
       "[(59,)]"
      ]
     },
     "execution_count": 16,
     "metadata": {},
     "output_type": "execute_result"
    }
   ],
   "source": [
    "%%sql\n",
    "\n",
    "select count(customerId) from Customer"
   ]
  },
  {
   "cell_type": "code",
   "execution_count": 17,
   "metadata": {},
   "outputs": [
    {
     "name": "stdout",
     "output_type": "stream",
     "text": [
      " * sqlite:///chinook.sqlite\n",
      "Done.\n"
     ]
    },
    {
     "data": {
      "text/html": [
       "<table>\n",
       "    <thead>\n",
       "        <tr>\n",
       "            <th>count(ArtistId)</th>\n",
       "        </tr>\n",
       "    </thead>\n",
       "    <tbody>\n",
       "        <tr>\n",
       "            <td>275</td>\n",
       "        </tr>\n",
       "    </tbody>\n",
       "</table>"
      ],
      "text/plain": [
       "[(275,)]"
      ]
     },
     "execution_count": 17,
     "metadata": {},
     "output_type": "execute_result"
    }
   ],
   "source": [
    "%%sql\n",
    "\n",
    "select count(ArtistId) from Artist"
   ]
  },
  {
   "cell_type": "code",
   "execution_count": 18,
   "metadata": {},
   "outputs": [
    {
     "name": "stdout",
     "output_type": "stream",
     "text": [
      " * sqlite:///chinook.sqlite\n",
      "Done.\n"
     ]
    },
    {
     "data": {
      "text/html": [
       "<table>\n",
       "    <thead>\n",
       "        <tr>\n",
       "            <th>count(TrackId)</th>\n",
       "        </tr>\n",
       "    </thead>\n",
       "    <tbody>\n",
       "        <tr>\n",
       "            <td>3503</td>\n",
       "        </tr>\n",
       "    </tbody>\n",
       "</table>"
      ],
      "text/plain": [
       "[(3503,)]"
      ]
     },
     "execution_count": 18,
     "metadata": {},
     "output_type": "execute_result"
    }
   ],
   "source": [
    "%%sql\n",
    "\n",
    "select count(TrackId) from Track"
   ]
  },
  {
   "cell_type": "markdown",
   "metadata": {},
   "source": [
    "## Aggregation and Grouping\n",
    "\n",
    "> **QUESTION 3**: Write a SQL query to show the top 10 albums with the highest number of tracks. The result should contain 2 columns: album ID and number of tracks in the album (name the column \"Tracks\"). Here are the first few rows of the result:\n",
    "> <img src=\"https://i.imgur.com/0vGhVMZ.png\" width=\"120\">"
   ]
  },
  {
   "cell_type": "code",
   "execution_count": 21,
   "metadata": {
    "vscode": {
     "languageId": "sql"
    }
   },
   "outputs": [
    {
     "name": "stdout",
     "output_type": "stream",
     "text": [
      " * sqlite:///chinook.sqlite\n",
      "Done.\n"
     ]
    },
    {
     "data": {
      "text/html": [
       "<table>\n",
       "    <thead>\n",
       "        <tr>\n",
       "            <th>AlbumId</th>\n",
       "            <th>Tracks</th>\n",
       "        </tr>\n",
       "    </thead>\n",
       "    <tbody>\n",
       "        <tr>\n",
       "            <td>141</td>\n",
       "            <td>57</td>\n",
       "        </tr>\n",
       "        <tr>\n",
       "            <td>23</td>\n",
       "            <td>34</td>\n",
       "        </tr>\n",
       "        <tr>\n",
       "            <td>73</td>\n",
       "            <td>30</td>\n",
       "        </tr>\n",
       "        <tr>\n",
       "            <td>229</td>\n",
       "            <td>26</td>\n",
       "        </tr>\n",
       "        <tr>\n",
       "            <td>230</td>\n",
       "            <td>25</td>\n",
       "        </tr>\n",
       "        <tr>\n",
       "            <td>251</td>\n",
       "            <td>25</td>\n",
       "        </tr>\n",
       "        <tr>\n",
       "            <td>83</td>\n",
       "            <td>24</td>\n",
       "        </tr>\n",
       "        <tr>\n",
       "            <td>231</td>\n",
       "            <td>24</td>\n",
       "        </tr>\n",
       "        <tr>\n",
       "            <td>253</td>\n",
       "            <td>24</td>\n",
       "        </tr>\n",
       "        <tr>\n",
       "            <td>24</td>\n",
       "            <td>23</td>\n",
       "        </tr>\n",
       "    </tbody>\n",
       "</table>"
      ],
      "text/plain": [
       "[(141, 57),\n",
       " (23, 34),\n",
       " (73, 30),\n",
       " (229, 26),\n",
       " (230, 25),\n",
       " (251, 25),\n",
       " (83, 24),\n",
       " (231, 24),\n",
       " (253, 24),\n",
       " (24, 23)]"
      ]
     },
     "execution_count": 21,
     "metadata": {},
     "output_type": "execute_result"
    }
   ],
   "source": [
    "%%sql\n",
    "\n",
    "SELECT a.AlbumId, COUNT(t.TrackId) AS Tracks\n",
    "FROM Album a\n",
    "JOIN Track t ON t.AlbumId = a.AlbumId\n",
    "GROUP BY a.AlbumId\n",
    "ORDER BY Tracks DESC\n",
    "LIMIT 10"
   ]
  },
  {
   "cell_type": "markdown",
   "metadata": {},
   "source": [
    "Improve the above query to also show the album name, artist ID and artist name. Enter the updated query in the empty cell below."
   ]
  },
  {
   "cell_type": "code",
   "execution_count": 22,
   "metadata": {},
   "outputs": [
    {
     "name": "stdout",
     "output_type": "stream",
     "text": [
      " * sqlite:///chinook.sqlite\n",
      "Done.\n"
     ]
    },
    {
     "data": {
      "text/html": [
       "<table>\n",
       "    <thead>\n",
       "        <tr>\n",
       "            <th>AlbumId</th>\n",
       "            <th>Tracks</th>\n",
       "            <th>Title</th>\n",
       "            <th>ArtistId</th>\n",
       "            <th>Artist</th>\n",
       "        </tr>\n",
       "    </thead>\n",
       "    <tbody>\n",
       "        <tr>\n",
       "            <td>141</td>\n",
       "            <td>57</td>\n",
       "            <td>Greatest Hits</td>\n",
       "            <td>100</td>\n",
       "            <td>Lenny Kravitz</td>\n",
       "        </tr>\n",
       "        <tr>\n",
       "            <td>23</td>\n",
       "            <td>34</td>\n",
       "            <td>Minha Historia</td>\n",
       "            <td>17</td>\n",
       "            <td>Chico Buarque</td>\n",
       "        </tr>\n",
       "        <tr>\n",
       "            <td>73</td>\n",
       "            <td>30</td>\n",
       "            <td>Unplugged</td>\n",
       "            <td>81</td>\n",
       "            <td>Eric Clapton</td>\n",
       "        </tr>\n",
       "        <tr>\n",
       "            <td>229</td>\n",
       "            <td>26</td>\n",
       "            <td>Lost, Season 3</td>\n",
       "            <td>149</td>\n",
       "            <td>Lost</td>\n",
       "        </tr>\n",
       "        <tr>\n",
       "            <td>230</td>\n",
       "            <td>25</td>\n",
       "            <td>Lost, Season 1</td>\n",
       "            <td>149</td>\n",
       "            <td>Lost</td>\n",
       "        </tr>\n",
       "        <tr>\n",
       "            <td>251</td>\n",
       "            <td>25</td>\n",
       "            <td>The Office, Season 3</td>\n",
       "            <td>156</td>\n",
       "            <td>The Office</td>\n",
       "        </tr>\n",
       "        <tr>\n",
       "            <td>83</td>\n",
       "            <td>24</td>\n",
       "            <td>My Way: The Best Of Frank Sinatra [Disc 1]</td>\n",
       "            <td>85</td>\n",
       "            <td>Frank Sinatra</td>\n",
       "        </tr>\n",
       "        <tr>\n",
       "            <td>231</td>\n",
       "            <td>24</td>\n",
       "            <td>Lost, Season 2</td>\n",
       "            <td>149</td>\n",
       "            <td>Lost</td>\n",
       "        </tr>\n",
       "        <tr>\n",
       "            <td>253</td>\n",
       "            <td>24</td>\n",
       "            <td>Battlestar Galactica (Classic), Season 1</td>\n",
       "            <td>158</td>\n",
       "            <td>Battlestar Galactica (Classic)</td>\n",
       "        </tr>\n",
       "        <tr>\n",
       "            <td>24</td>\n",
       "            <td>23</td>\n",
       "            <td>Afrociberdelia</td>\n",
       "            <td>18</td>\n",
       "            <td>Chico Science &amp; Nação Zumbi</td>\n",
       "        </tr>\n",
       "    </tbody>\n",
       "</table>"
      ],
      "text/plain": [
       "[(141, 57, 'Greatest Hits', 100, 'Lenny Kravitz'),\n",
       " (23, 34, 'Minha Historia', 17, 'Chico Buarque'),\n",
       " (73, 30, 'Unplugged', 81, 'Eric Clapton'),\n",
       " (229, 26, 'Lost, Season 3', 149, 'Lost'),\n",
       " (230, 25, 'Lost, Season 1', 149, 'Lost'),\n",
       " (251, 25, 'The Office, Season 3', 156, 'The Office'),\n",
       " (83, 24, 'My Way: The Best Of Frank Sinatra [Disc 1]', 85, 'Frank Sinatra'),\n",
       " (231, 24, 'Lost, Season 2', 149, 'Lost'),\n",
       " (253, 24, 'Battlestar Galactica (Classic), Season 1', 158, 'Battlestar Galactica (Classic)'),\n",
       " (24, 23, 'Afrociberdelia', 18, 'Chico Science & Nação Zumbi')]"
      ]
     },
     "execution_count": 22,
     "metadata": {},
     "output_type": "execute_result"
    }
   ],
   "source": [
    "%%sql\n",
    "\n",
    "select a.AlbumId, count(t.TrackId) as Tracks, a.Title, ar.ArtistId, ar.Name as Artist\n",
    "from Album a\n",
    "join Track t on a.AlbumId = t.AlbumId\n",
    "join Artist ar on a.ArtistId = ar.ArtistId\n",
    "group by a.AlbumId\n",
    "order by Tracks desc\n",
    "limit 10;"
   ]
  },
  {
   "cell_type": "markdown",
   "metadata": {},
   "source": [
    " List the top 10 albums with the highest number of tracks."
   ]
  },
  {
   "cell_type": "code",
   "execution_count": 23,
   "metadata": {},
   "outputs": [
    {
     "name": "stdout",
     "output_type": "stream",
     "text": [
      " * sqlite:///chinook.sqlite\n",
      "Done.\n"
     ]
    },
    {
     "data": {
      "text/html": [
       "<table>\n",
       "    <thead>\n",
       "        <tr>\n",
       "            <th>AlbumId</th>\n",
       "            <th>Tracks</th>\n",
       "        </tr>\n",
       "    </thead>\n",
       "    <tbody>\n",
       "        <tr>\n",
       "            <td>141</td>\n",
       "            <td>57</td>\n",
       "        </tr>\n",
       "        <tr>\n",
       "            <td>23</td>\n",
       "            <td>34</td>\n",
       "        </tr>\n",
       "        <tr>\n",
       "            <td>73</td>\n",
       "            <td>30</td>\n",
       "        </tr>\n",
       "        <tr>\n",
       "            <td>229</td>\n",
       "            <td>26</td>\n",
       "        </tr>\n",
       "        <tr>\n",
       "            <td>230</td>\n",
       "            <td>25</td>\n",
       "        </tr>\n",
       "        <tr>\n",
       "            <td>251</td>\n",
       "            <td>25</td>\n",
       "        </tr>\n",
       "        <tr>\n",
       "            <td>83</td>\n",
       "            <td>24</td>\n",
       "        </tr>\n",
       "        <tr>\n",
       "            <td>231</td>\n",
       "            <td>24</td>\n",
       "        </tr>\n",
       "        <tr>\n",
       "            <td>253</td>\n",
       "            <td>24</td>\n",
       "        </tr>\n",
       "        <tr>\n",
       "            <td>24</td>\n",
       "            <td>23</td>\n",
       "        </tr>\n",
       "    </tbody>\n",
       "</table>"
      ],
      "text/plain": [
       "[(141, 57),\n",
       " (23, 34),\n",
       " (73, 30),\n",
       " (229, 26),\n",
       " (230, 25),\n",
       " (251, 25),\n",
       " (83, 24),\n",
       " (231, 24),\n",
       " (253, 24),\n",
       " (24, 23)]"
      ]
     },
     "execution_count": 23,
     "metadata": {},
     "output_type": "execute_result"
    }
   ],
   "source": [
    "%%sql\n",
    "\n",
    "SELECT a.AlbumId, COUNT(t.TrackId) AS Tracks\n",
    "FROM Album a\n",
    "JOIN Track t ON a.AlbumId = t.AlbumId\n",
    "GROUP BY a.AlbumId\n",
    "ORDER BY Tracks DESC\n",
    "LIMIT 10;"
   ]
  },
  {
   "cell_type": "markdown",
   "metadata": {},
   "source": [
    "List the top 10 artists with the highest number of tracks."
   ]
  },
  {
   "cell_type": "code",
   "execution_count": 24,
   "metadata": {},
   "outputs": [
    {
     "name": "stdout",
     "output_type": "stream",
     "text": [
      " * sqlite:///chinook.sqlite\n",
      "Done.\n"
     ]
    },
    {
     "data": {
      "text/html": [
       "<table>\n",
       "    <thead>\n",
       "        <tr>\n",
       "            <th>Name</th>\n",
       "            <th>Tracks</th>\n",
       "        </tr>\n",
       "    </thead>\n",
       "    <tbody>\n",
       "        <tr>\n",
       "            <td>Iron Maiden</td>\n",
       "            <td>213</td>\n",
       "        </tr>\n",
       "        <tr>\n",
       "            <td>U2</td>\n",
       "            <td>135</td>\n",
       "        </tr>\n",
       "        <tr>\n",
       "            <td>Led Zeppelin</td>\n",
       "            <td>114</td>\n",
       "        </tr>\n",
       "        <tr>\n",
       "            <td>Metallica</td>\n",
       "            <td>112</td>\n",
       "        </tr>\n",
       "        <tr>\n",
       "            <td>Lost</td>\n",
       "            <td>92</td>\n",
       "        </tr>\n",
       "        <tr>\n",
       "            <td>Deep Purple</td>\n",
       "            <td>92</td>\n",
       "        </tr>\n",
       "        <tr>\n",
       "            <td>Pearl Jam</td>\n",
       "            <td>67</td>\n",
       "        </tr>\n",
       "        <tr>\n",
       "            <td>Lenny Kravitz</td>\n",
       "            <td>57</td>\n",
       "        </tr>\n",
       "        <tr>\n",
       "            <td>Various Artists</td>\n",
       "            <td>56</td>\n",
       "        </tr>\n",
       "        <tr>\n",
       "            <td>The Office</td>\n",
       "            <td>53</td>\n",
       "        </tr>\n",
       "    </tbody>\n",
       "</table>"
      ],
      "text/plain": [
       "[('Iron Maiden', 213),\n",
       " ('U2', 135),\n",
       " ('Led Zeppelin', 114),\n",
       " ('Metallica', 112),\n",
       " ('Lost', 92),\n",
       " ('Deep Purple', 92),\n",
       " ('Pearl Jam', 67),\n",
       " ('Lenny Kravitz', 57),\n",
       " ('Various Artists', 56),\n",
       " ('The Office', 53)]"
      ]
     },
     "execution_count": 24,
     "metadata": {},
     "output_type": "execute_result"
    }
   ],
   "source": [
    "%%sql\n",
    "\n",
    "SELECT ar.Name, COUNT(t.TrackId) AS Tracks\n",
    "FROM Album a\n",
    "JOIN Track t ON a.AlbumId = t.AlbumId\n",
    "JOIN Artist ar ON a.ArtistId = ar.ArtistId\n",
    "GROUP BY ar.ArtistId\n",
    "ORDER BY Tracks DESC\n",
    "LIMIT 10"
   ]
  },
  {
   "cell_type": "markdown",
   "metadata": {},
   "source": [
    "## Functions and Joins\n",
    "\n",
    "> **QUESTION 4**: Show a list of the top 10 customer with the highest total spend in 2012. Calculate the total amount spent by each customer by adding the totals from all their invoices in the year 2012. Order the list by the invoice total (decreasing order). The result should contain the rows CustomerId, FirstName, LastName and TotalSpend. Here are the first few rows of the result:\n",
    "> <img src=\"https://i.imgur.com/rayPKc3.png\" width=\"480\">\n",
    ">\n",
    ">\n",
    "> *Note*: SQLite doesn't support the `YEAR` function. Instead use `strftime(\"%Y\", Invoice.InvoiceDate)` to extract the year from the column `InvoiceDate` as a string. [Learn more.](https://www.w3resource.com/sqlite/sqlite-strftime.php)\n",
    ">\n",
    "> _Hint_: First try to write down a step-by-step solution to the problem in plain English, and then try to convert it to a SQL query. Use the empty cells below to experiment with intermediate queries."
   ]
  },
  {
   "cell_type": "code",
   "execution_count": 27,
   "metadata": {},
   "outputs": [
    {
     "name": "stdout",
     "output_type": "stream",
     "text": [
      " * sqlite:///chinook.sqlite\n",
      "Done.\n"
     ]
    },
    {
     "data": {
      "text/html": [
       "<table>\n",
       "    <thead>\n",
       "        <tr>\n",
       "            <th>CustomerId</th>\n",
       "            <th>FirstName</th>\n",
       "            <th>LastName</th>\n",
       "            <th>TotalSpend</th>\n",
       "        </tr>\n",
       "    </thead>\n",
       "    <tbody>\n",
       "        <tr>\n",
       "            <td>26</td>\n",
       "            <td>Richard</td>\n",
       "            <td>Cunningham</td>\n",
       "            <td>25.84</td>\n",
       "        </tr>\n",
       "        <tr>\n",
       "            <td>34</td>\n",
       "            <td>João</td>\n",
       "            <td>Fernandes</td>\n",
       "            <td>24.77</td>\n",
       "        </tr>\n",
       "        <tr>\n",
       "            <td>13</td>\n",
       "            <td>Fernanda</td>\n",
       "            <td>Ramos</td>\n",
       "            <td>24.75</td>\n",
       "        </tr>\n",
       "        <tr>\n",
       "            <td>51</td>\n",
       "            <td>Joakim</td>\n",
       "            <td>Johansson</td>\n",
       "            <td>24.75</td>\n",
       "        </tr>\n",
       "        <tr>\n",
       "            <td>55</td>\n",
       "            <td>Mark</td>\n",
       "            <td>Taylor</td>\n",
       "            <td>22.77</td>\n",
       "        </tr>\n",
       "        <tr>\n",
       "            <td>5</td>\n",
       "            <td>František</td>\n",
       "            <td>Wichterlová</td>\n",
       "            <td>18.84</td>\n",
       "        </tr>\n",
       "        <tr>\n",
       "            <td>43</td>\n",
       "            <td>Isabelle</td>\n",
       "            <td>Mercier</td>\n",
       "            <td>18.84</td>\n",
       "        </tr>\n",
       "        <tr>\n",
       "            <td>28</td>\n",
       "            <td>Julia</td>\n",
       "            <td>Barnett</td>\n",
       "            <td>17.88</td>\n",
       "        </tr>\n",
       "        <tr>\n",
       "            <td>22</td>\n",
       "            <td>Heather</td>\n",
       "            <td>Leacock</td>\n",
       "            <td>17.84</td>\n",
       "        </tr>\n",
       "        <tr>\n",
       "            <td>24</td>\n",
       "            <td>Frank</td>\n",
       "            <td>Ralston</td>\n",
       "            <td>15.88</td>\n",
       "        </tr>\n",
       "    </tbody>\n",
       "</table>"
      ],
      "text/plain": [
       "[(26, 'Richard', 'Cunningham', 25.84),\n",
       " (34, 'João', 'Fernandes', 24.77),\n",
       " (13, 'Fernanda', 'Ramos', 24.75),\n",
       " (51, 'Joakim', 'Johansson', 24.75),\n",
       " (55, 'Mark', 'Taylor', 22.77),\n",
       " (5, 'František', 'Wichterlová', 18.84),\n",
       " (43, 'Isabelle', 'Mercier', 18.84),\n",
       " (28, 'Julia', 'Barnett', 17.88),\n",
       " (22, 'Heather', 'Leacock', 17.84),\n",
       " (24, 'Frank', 'Ralston', 15.88)]"
      ]
     },
     "execution_count": 27,
     "metadata": {},
     "output_type": "execute_result"
    }
   ],
   "source": [
    "%%sql\n",
    "\n",
    "select c.CustomerId, c.FirstName, c.LastName, sum(i.Total) as TotalSpend\n",
    "from Customer c\n",
    "join Invoice i on c.CustomerId = i.CustomerId\n",
    "where strftime('%Y', i.InvoiceDate) = '2012'\n",
    "group by c.CustomerId\n",
    "order by TotalSpend desc\n",
    "limit 10;\n"
   ]
  },
  {
   "cell_type": "markdown",
   "metadata": {},
   "source": [
    "## Joins and Arithmetic Operations\n",
    "\n",
    "> **QUESTION 5**: Write a SQL query to show the total number of albums and the average number of tracks per album for every artist. The result should include the artist ID, artist's name, total albums (name the column \"Albums\") and average tracks per album (name the column \"TracksPerAlbum\"). Sort the results in alphabetical order of artist name. Here are the first few rows of the result:\n",
    ">\n",
    "> <img src=\"https://i.imgur.com/WAE7oOx.png\" width=\"640\">\n",
    "> \n",
    "> *Hint*: While dividing two integers, multiply one of the numbers by 1.0 to convert them into floats. [Learn more.](https://stackoverflow.com/questions/8305613/converting-int-to-real-in-sqlite)"
   ]
  },
  {
   "cell_type": "code",
   "execution_count": 61,
   "metadata": {
    "vscode": {
     "languageId": "sql"
    }
   },
   "outputs": [
    {
     "name": "stdout",
     "output_type": "stream",
     "text": [
      " * sqlite:///chinook.sqlite\n",
      "Done.\n"
     ]
    },
    {
     "data": {
      "text/html": [
       "<table>\n",
       "    <thead>\n",
       "        <tr>\n",
       "            <th>ArtistId</th>\n",
       "            <th>Artist</th>\n",
       "            <th>Albums</th>\n",
       "            <th>TracksPerAlbum</th>\n",
       "        </tr>\n",
       "    </thead>\n",
       "    <tbody>\n",
       "        <tr>\n",
       "            <td>1</td>\n",
       "            <td>AC/DC</td>\n",
       "            <td>2</td>\n",
       "            <td>9.0</td>\n",
       "        </tr>\n",
       "        <tr>\n",
       "            <td>230</td>\n",
       "            <td>Aaron Copland &amp; London Symphony Orchestra</td>\n",
       "            <td>1</td>\n",
       "            <td>1.0</td>\n",
       "        </tr>\n",
       "        <tr>\n",
       "            <td>202</td>\n",
       "            <td>Aaron Goldberg</td>\n",
       "            <td>1</td>\n",
       "            <td>1.0</td>\n",
       "        </tr>\n",
       "        <tr>\n",
       "            <td>214</td>\n",
       "            <td>Academy of St. Martin in the Fields &amp; Sir Neville Marriner</td>\n",
       "            <td>1</td>\n",
       "            <td>2.0</td>\n",
       "        </tr>\n",
       "        <tr>\n",
       "            <td>215</td>\n",
       "            <td>Academy of St. Martin in the Fields Chamber Ensemble &amp; Sir Neville Marriner</td>\n",
       "            <td>1</td>\n",
       "            <td>1.0</td>\n",
       "        </tr>\n",
       "        <tr>\n",
       "            <td>222</td>\n",
       "            <td>Academy of St. Martin in the Fields, John Birch, Sir Neville Marriner &amp; Sylvia McNair</td>\n",
       "            <td>1</td>\n",
       "            <td>1.0</td>\n",
       "        </tr>\n",
       "        <tr>\n",
       "            <td>257</td>\n",
       "            <td>Academy of St. Martin in the Fields, Sir Neville Marriner &amp; Thurston Dart</td>\n",
       "            <td>1</td>\n",
       "            <td>1.0</td>\n",
       "        </tr>\n",
       "        <tr>\n",
       "            <td>2</td>\n",
       "            <td>Accept</td>\n",
       "            <td>2</td>\n",
       "            <td>2.0</td>\n",
       "        </tr>\n",
       "        <tr>\n",
       "            <td>260</td>\n",
       "            <td>Adrian Leaper &amp; Doreen de Feis</td>\n",
       "            <td>1</td>\n",
       "            <td>1.0</td>\n",
       "        </tr>\n",
       "        <tr>\n",
       "            <td>3</td>\n",
       "            <td>Aerosmith</td>\n",
       "            <td>1</td>\n",
       "            <td>15.0</td>\n",
       "        </tr>\n",
       "    </tbody>\n",
       "</table>"
      ],
      "text/plain": [
       "[(1, 'AC/DC', 2, 9.0),\n",
       " (230, 'Aaron Copland & London Symphony Orchestra', 1, 1.0),\n",
       " (202, 'Aaron Goldberg', 1, 1.0),\n",
       " (214, 'Academy of St. Martin in the Fields & Sir Neville Marriner', 1, 2.0),\n",
       " (215, 'Academy of St. Martin in the Fields Chamber Ensemble & Sir Neville Marriner', 1, 1.0),\n",
       " (222, 'Academy of St. Martin in the Fields, John Birch, Sir Neville Marriner & Sylvia McNair', 1, 1.0),\n",
       " (257, 'Academy of St. Martin in the Fields, Sir Neville Marriner & Thurston Dart', 1, 1.0),\n",
       " (2, 'Accept', 2, 2.0),\n",
       " (260, 'Adrian Leaper & Doreen de Feis', 1, 1.0),\n",
       " (3, 'Aerosmith', 1, 15.0)]"
      ]
     },
     "execution_count": 61,
     "metadata": {},
     "output_type": "execute_result"
    }
   ],
   "source": [
    "%%sql\n",
    "\n",
    "SELECT ar.ArtistId, ar.Name AS Artist, COUNT(a.AlbumId) AS Albums, AVG(t.TrackCount) AS TracksPerAlbum\n",
    "FROM Artist ar\n",
    "JOIN Album a ON ar.ArtistId = a.ArtistId\n",
    "JOIN (\n",
    "    SELECT AlbumId, COUNT(TrackId) AS TrackCount\n",
    "    FROM Track\n",
    "    GROUP BY AlbumId\n",
    ") t ON a.AlbumId = t.AlbumId\n",
    "GROUP BY ar.ArtistId, ar.Name\n",
    "ORDER BY ar.Name ASC\n",
    "limit 10;"
   ]
  },
  {
   "cell_type": "markdown",
   "metadata": {},
   "source": [
    "## Joining Multiple Tables\n",
    "\n",
    "> **QUESTION 6:** Show the following information for all the tracks by the Artist \"Metallica\": Track ID, Track Name, Album Title, Artist Name, Composer, Media Type, Genre and track length in milliseconds. Order the tracks in alphabetical order of album names.\n",
    "> \n",
    "> Here are the first few rows of the expected result:\n",
    ">\n",
    "> <img src=\"https://i.imgur.com/Ovhm9Nh.png\" width=\"640\">"
   ]
  },
  {
   "cell_type": "code",
   "execution_count": 69,
   "metadata": {
    "vscode": {
     "languageId": "sql"
    }
   },
   "outputs": [
    {
     "name": "stdout",
     "output_type": "stream",
     "text": [
      " * sqlite:///chinook.sqlite\n",
      "Done.\n"
     ]
    },
    {
     "data": {
      "text/html": [
       "<table>\n",
       "    <thead>\n",
       "        <tr>\n",
       "            <th>TrackId</th>\n",
       "            <th>TrackName</th>\n",
       "            <th>AlbumTitle</th>\n",
       "            <th>ArtistName</th>\n",
       "            <th>Composer</th>\n",
       "            <th>MediaType</th>\n",
       "            <th>Genre</th>\n",
       "            <th>Milliseconds</th>\n",
       "        </tr>\n",
       "    </thead>\n",
       "    <tbody>\n",
       "        <tr>\n",
       "            <td>1893</td>\n",
       "            <td>Blackened</td>\n",
       "            <td>...And Justice For All</td>\n",
       "            <td>Metallica</td>\n",
       "            <td>James Hetfield, Lars Ulrich &amp; Jason Newsted</td>\n",
       "            <td>MPEG audio file</td>\n",
       "            <td>Metal</td>\n",
       "            <td>403382</td>\n",
       "        </tr>\n",
       "        <tr>\n",
       "            <td>1894</td>\n",
       "            <td>...And Justice For All</td>\n",
       "            <td>...And Justice For All</td>\n",
       "            <td>Metallica</td>\n",
       "            <td>James Hetfield, Lars Ulrich &amp; Kirk Hammett</td>\n",
       "            <td>MPEG audio file</td>\n",
       "            <td>Metal</td>\n",
       "            <td>585769</td>\n",
       "        </tr>\n",
       "        <tr>\n",
       "            <td>1895</td>\n",
       "            <td>Eye Of The Beholder</td>\n",
       "            <td>...And Justice For All</td>\n",
       "            <td>Metallica</td>\n",
       "            <td>James Hetfield, Lars Ulrich &amp; Kirk Hammett</td>\n",
       "            <td>MPEG audio file</td>\n",
       "            <td>Metal</td>\n",
       "            <td>385828</td>\n",
       "        </tr>\n",
       "        <tr>\n",
       "            <td>1896</td>\n",
       "            <td>One</td>\n",
       "            <td>...And Justice For All</td>\n",
       "            <td>Metallica</td>\n",
       "            <td>James Hetfield &amp; Lars Ulrich</td>\n",
       "            <td>MPEG audio file</td>\n",
       "            <td>Metal</td>\n",
       "            <td>446484</td>\n",
       "        </tr>\n",
       "        <tr>\n",
       "            <td>1897</td>\n",
       "            <td>The Shortest Straw</td>\n",
       "            <td>...And Justice For All</td>\n",
       "            <td>Metallica</td>\n",
       "            <td>James Hetfield and Lars Ulrich</td>\n",
       "            <td>MPEG audio file</td>\n",
       "            <td>Metal</td>\n",
       "            <td>395389</td>\n",
       "        </tr>\n",
       "        <tr>\n",
       "            <td>1898</td>\n",
       "            <td>Harvester Of Sorrow</td>\n",
       "            <td>...And Justice For All</td>\n",
       "            <td>Metallica</td>\n",
       "            <td>James Hetfield and Lars Ulrich</td>\n",
       "            <td>MPEG audio file</td>\n",
       "            <td>Metal</td>\n",
       "            <td>345547</td>\n",
       "        </tr>\n",
       "        <tr>\n",
       "            <td>1899</td>\n",
       "            <td>The Frayed Ends Of Sanity</td>\n",
       "            <td>...And Justice For All</td>\n",
       "            <td>Metallica</td>\n",
       "            <td>James Hetfield, Lars Ulrich and Kirk Hammett</td>\n",
       "            <td>MPEG audio file</td>\n",
       "            <td>Metal</td>\n",
       "            <td>464039</td>\n",
       "        </tr>\n",
       "        <tr>\n",
       "            <td>1900</td>\n",
       "            <td>To Live Is To Die</td>\n",
       "            <td>...And Justice For All</td>\n",
       "            <td>Metallica</td>\n",
       "            <td>James Hetfield, Lars Ulrich and Cliff Burton</td>\n",
       "            <td>MPEG audio file</td>\n",
       "            <td>Metal</td>\n",
       "            <td>588564</td>\n",
       "        </tr>\n",
       "        <tr>\n",
       "            <td>1901</td>\n",
       "            <td>Dyers Eve</td>\n",
       "            <td>...And Justice For All</td>\n",
       "            <td>Metallica</td>\n",
       "            <td>James Hetfield, Lars Ulrich and Kirk Hammett</td>\n",
       "            <td>MPEG audio file</td>\n",
       "            <td>Metal</td>\n",
       "            <td>313991</td>\n",
       "        </tr>\n",
       "        <tr>\n",
       "            <td>1801</td>\n",
       "            <td>Enter Sandman</td>\n",
       "            <td>Black Album</td>\n",
       "            <td>Metallica</td>\n",
       "            <td>James Hetfield, Lars Ulrich and Kirk Hammett</td>\n",
       "            <td>MPEG audio file</td>\n",
       "            <td>Metal</td>\n",
       "            <td>332251</td>\n",
       "        </tr>\n",
       "    </tbody>\n",
       "</table>"
      ],
      "text/plain": [
       "[(1893, 'Blackened', '...And Justice For All', 'Metallica', 'James Hetfield, Lars Ulrich & Jason Newsted', 'MPEG audio file', 'Metal', 403382),\n",
       " (1894, '...And Justice For All', '...And Justice For All', 'Metallica', 'James Hetfield, Lars Ulrich & Kirk Hammett', 'MPEG audio file', 'Metal', 585769),\n",
       " (1895, 'Eye Of The Beholder', '...And Justice For All', 'Metallica', 'James Hetfield, Lars Ulrich & Kirk Hammett', 'MPEG audio file', 'Metal', 385828),\n",
       " (1896, 'One', '...And Justice For All', 'Metallica', 'James Hetfield & Lars Ulrich', 'MPEG audio file', 'Metal', 446484),\n",
       " (1897, 'The Shortest Straw', '...And Justice For All', 'Metallica', 'James Hetfield and Lars Ulrich', 'MPEG audio file', 'Metal', 395389),\n",
       " (1898, 'Harvester Of Sorrow', '...And Justice For All', 'Metallica', 'James Hetfield and Lars Ulrich', 'MPEG audio file', 'Metal', 345547),\n",
       " (1899, 'The Frayed Ends Of Sanity', '...And Justice For All', 'Metallica', 'James Hetfield, Lars Ulrich and Kirk Hammett', 'MPEG audio file', 'Metal', 464039),\n",
       " (1900, 'To Live Is To Die', '...And Justice For All', 'Metallica', 'James Hetfield, Lars Ulrich and Cliff Burton', 'MPEG audio file', 'Metal', 588564),\n",
       " (1901, 'Dyers Eve', '...And Justice For All', 'Metallica', 'James Hetfield, Lars Ulrich and Kirk Hammett', 'MPEG audio file', 'Metal', 313991),\n",
       " (1801, 'Enter Sandman', 'Black Album', 'Metallica', 'James Hetfield, Lars Ulrich and Kirk Hammett', 'MPEG audio file', 'Metal', 332251)]"
      ]
     },
     "execution_count": 69,
     "metadata": {},
     "output_type": "execute_result"
    }
   ],
   "source": [
    "%%sql\n",
    "\n",
    "SELECT t.TrackId, t.Name AS TrackName, a.Title AS AlbumTitle, ar.Name AS ArtistName, t.Composer, m.Name AS MediaType, g.Name AS Genre, t.Milliseconds\n",
    "FROM Track t \n",
    "JOIN Album a ON t.AlbumId = a.AlbumId\n",
    "JOIN Artist ar ON a.ArtistId = ar.ArtistId\n",
    "JOIN MediaType m ON t.MediaTypeId = m.MediaTypeId\n",
    "JOIN Genre g ON t.GenreId = g.GenreId\n",
    "WHERE ar.Name = 'Metallica'\n",
    "ORDER BY a.Title ASC\n",
    "limit 10;"
   ]
  },
  {
   "cell_type": "markdown",
   "metadata": {},
   "source": [
    "Modify the above query to show the length of each track in the \"MM:SS\" format i.e. \"03:15\". Enter the updated query in the empty cell below."
   ]
  },
  {
   "cell_type": "code",
   "execution_count": 70,
   "metadata": {
    "vscode": {
     "languageId": "sql"
    }
   },
   "outputs": [
    {
     "name": "stdout",
     "output_type": "stream",
     "text": [
      " * sqlite:///chinook.sqlite\n",
      "Done.\n"
     ]
    },
    {
     "data": {
      "text/html": [
       "<table>\n",
       "    <thead>\n",
       "        <tr>\n",
       "            <th>TrackId</th>\n",
       "            <th>TrackName</th>\n",
       "            <th>AlbumTitle</th>\n",
       "            <th>ArtistName</th>\n",
       "            <th>Composer</th>\n",
       "            <th>MediaType</th>\n",
       "            <th>Genre</th>\n",
       "            <th>TrackLength</th>\n",
       "        </tr>\n",
       "    </thead>\n",
       "    <tbody>\n",
       "        <tr>\n",
       "            <td>1893</td>\n",
       "            <td>Blackened</td>\n",
       "            <td>...And Justice For All</td>\n",
       "            <td>Metallica</td>\n",
       "            <td>James Hetfield, Lars Ulrich &amp; Jason Newsted</td>\n",
       "            <td>MPEG audio file</td>\n",
       "            <td>Metal</td>\n",
       "            <td>06:43</td>\n",
       "        </tr>\n",
       "        <tr>\n",
       "            <td>1894</td>\n",
       "            <td>...And Justice For All</td>\n",
       "            <td>...And Justice For All</td>\n",
       "            <td>Metallica</td>\n",
       "            <td>James Hetfield, Lars Ulrich &amp; Kirk Hammett</td>\n",
       "            <td>MPEG audio file</td>\n",
       "            <td>Metal</td>\n",
       "            <td>09:45</td>\n",
       "        </tr>\n",
       "        <tr>\n",
       "            <td>1895</td>\n",
       "            <td>Eye Of The Beholder</td>\n",
       "            <td>...And Justice For All</td>\n",
       "            <td>Metallica</td>\n",
       "            <td>James Hetfield, Lars Ulrich &amp; Kirk Hammett</td>\n",
       "            <td>MPEG audio file</td>\n",
       "            <td>Metal</td>\n",
       "            <td>06:25</td>\n",
       "        </tr>\n",
       "        <tr>\n",
       "            <td>1896</td>\n",
       "            <td>One</td>\n",
       "            <td>...And Justice For All</td>\n",
       "            <td>Metallica</td>\n",
       "            <td>James Hetfield &amp; Lars Ulrich</td>\n",
       "            <td>MPEG audio file</td>\n",
       "            <td>Metal</td>\n",
       "            <td>07:26</td>\n",
       "        </tr>\n",
       "        <tr>\n",
       "            <td>1897</td>\n",
       "            <td>The Shortest Straw</td>\n",
       "            <td>...And Justice For All</td>\n",
       "            <td>Metallica</td>\n",
       "            <td>James Hetfield and Lars Ulrich</td>\n",
       "            <td>MPEG audio file</td>\n",
       "            <td>Metal</td>\n",
       "            <td>06:35</td>\n",
       "        </tr>\n",
       "        <tr>\n",
       "            <td>1898</td>\n",
       "            <td>Harvester Of Sorrow</td>\n",
       "            <td>...And Justice For All</td>\n",
       "            <td>Metallica</td>\n",
       "            <td>James Hetfield and Lars Ulrich</td>\n",
       "            <td>MPEG audio file</td>\n",
       "            <td>Metal</td>\n",
       "            <td>05:45</td>\n",
       "        </tr>\n",
       "        <tr>\n",
       "            <td>1899</td>\n",
       "            <td>The Frayed Ends Of Sanity</td>\n",
       "            <td>...And Justice For All</td>\n",
       "            <td>Metallica</td>\n",
       "            <td>James Hetfield, Lars Ulrich and Kirk Hammett</td>\n",
       "            <td>MPEG audio file</td>\n",
       "            <td>Metal</td>\n",
       "            <td>07:44</td>\n",
       "        </tr>\n",
       "        <tr>\n",
       "            <td>1900</td>\n",
       "            <td>To Live Is To Die</td>\n",
       "            <td>...And Justice For All</td>\n",
       "            <td>Metallica</td>\n",
       "            <td>James Hetfield, Lars Ulrich and Cliff Burton</td>\n",
       "            <td>MPEG audio file</td>\n",
       "            <td>Metal</td>\n",
       "            <td>09:48</td>\n",
       "        </tr>\n",
       "        <tr>\n",
       "            <td>1901</td>\n",
       "            <td>Dyers Eve</td>\n",
       "            <td>...And Justice For All</td>\n",
       "            <td>Metallica</td>\n",
       "            <td>James Hetfield, Lars Ulrich and Kirk Hammett</td>\n",
       "            <td>MPEG audio file</td>\n",
       "            <td>Metal</td>\n",
       "            <td>05:13</td>\n",
       "        </tr>\n",
       "        <tr>\n",
       "            <td>1801</td>\n",
       "            <td>Enter Sandman</td>\n",
       "            <td>Black Album</td>\n",
       "            <td>Metallica</td>\n",
       "            <td>James Hetfield, Lars Ulrich and Kirk Hammett</td>\n",
       "            <td>MPEG audio file</td>\n",
       "            <td>Metal</td>\n",
       "            <td>05:32</td>\n",
       "        </tr>\n",
       "    </tbody>\n",
       "</table>"
      ],
      "text/plain": [
       "[(1893, 'Blackened', '...And Justice For All', 'Metallica', 'James Hetfield, Lars Ulrich & Jason Newsted', 'MPEG audio file', 'Metal', '06:43'),\n",
       " (1894, '...And Justice For All', '...And Justice For All', 'Metallica', 'James Hetfield, Lars Ulrich & Kirk Hammett', 'MPEG audio file', 'Metal', '09:45'),\n",
       " (1895, 'Eye Of The Beholder', '...And Justice For All', 'Metallica', 'James Hetfield, Lars Ulrich & Kirk Hammett', 'MPEG audio file', 'Metal', '06:25'),\n",
       " (1896, 'One', '...And Justice For All', 'Metallica', 'James Hetfield & Lars Ulrich', 'MPEG audio file', 'Metal', '07:26'),\n",
       " (1897, 'The Shortest Straw', '...And Justice For All', 'Metallica', 'James Hetfield and Lars Ulrich', 'MPEG audio file', 'Metal', '06:35'),\n",
       " (1898, 'Harvester Of Sorrow', '...And Justice For All', 'Metallica', 'James Hetfield and Lars Ulrich', 'MPEG audio file', 'Metal', '05:45'),\n",
       " (1899, 'The Frayed Ends Of Sanity', '...And Justice For All', 'Metallica', 'James Hetfield, Lars Ulrich and Kirk Hammett', 'MPEG audio file', 'Metal', '07:44'),\n",
       " (1900, 'To Live Is To Die', '...And Justice For All', 'Metallica', 'James Hetfield, Lars Ulrich and Cliff Burton', 'MPEG audio file', 'Metal', '09:48'),\n",
       " (1901, 'Dyers Eve', '...And Justice For All', 'Metallica', 'James Hetfield, Lars Ulrich and Kirk Hammett', 'MPEG audio file', 'Metal', '05:13'),\n",
       " (1801, 'Enter Sandman', 'Black Album', 'Metallica', 'James Hetfield, Lars Ulrich and Kirk Hammett', 'MPEG audio file', 'Metal', '05:32')]"
      ]
     },
     "execution_count": 70,
     "metadata": {},
     "output_type": "execute_result"
    }
   ],
   "source": [
    "%%sql\n",
    "\n",
    "SELECT t.TrackId, t.Name AS TrackName, a.Title AS AlbumTitle, ar.Name AS ArtistName, t.Composer, m.Name AS MediaType, g.Name AS Genre, \n",
    "    strftime('%M:%S', t.Milliseconds / 1000, 'unixepoch') AS TrackLength\n",
    "FROM Track t \n",
    "JOIN Album a ON t.AlbumId = a.AlbumId\n",
    "JOIN Artist ar ON a.ArtistId = ar.ArtistId\n",
    "JOIN MediaType m ON t.MediaTypeId = m.MediaTypeId\n",
    "JOIN Genre g ON t.GenreId = g.GenreId\n",
    "WHERE ar.Name = 'Metallica'\n",
    "ORDER BY a.Title ASC\n",
    "LIMIT 10;"
   ]
  },
  {
   "cell_type": "markdown",
   "metadata": {},
   "source": [
    "Modify the above query to include the total revenue from the sales of each track. Enter the updated query in the empty cell below."
   ]
  },
  {
   "cell_type": "code",
   "execution_count": 71,
   "metadata": {},
   "outputs": [
    {
     "name": "stdout",
     "output_type": "stream",
     "text": [
      " * sqlite:///chinook.sqlite\n",
      "Done.\n"
     ]
    },
    {
     "data": {
      "text/html": [
       "<table>\n",
       "    <thead>\n",
       "        <tr>\n",
       "            <th>TrackId</th>\n",
       "            <th>TrackName</th>\n",
       "            <th>AlbumTitle</th>\n",
       "            <th>ArtistName</th>\n",
       "            <th>Composer</th>\n",
       "            <th>MediaType</th>\n",
       "            <th>Genre</th>\n",
       "            <th>TrackLength</th>\n",
       "            <th>TotalRevenue</th>\n",
       "        </tr>\n",
       "    </thead>\n",
       "    <tbody>\n",
       "        <tr>\n",
       "            <td>1893</td>\n",
       "            <td>Blackened</td>\n",
       "            <td>...And Justice For All</td>\n",
       "            <td>Metallica</td>\n",
       "            <td>James Hetfield, Lars Ulrich &amp; Jason Newsted</td>\n",
       "            <td>MPEG audio file</td>\n",
       "            <td>Metal</td>\n",
       "            <td>06:43</td>\n",
       "            <td>0.99</td>\n",
       "        </tr>\n",
       "        <tr>\n",
       "            <td>1894</td>\n",
       "            <td>...And Justice For All</td>\n",
       "            <td>...And Justice For All</td>\n",
       "            <td>Metallica</td>\n",
       "            <td>James Hetfield, Lars Ulrich &amp; Kirk Hammett</td>\n",
       "            <td>MPEG audio file</td>\n",
       "            <td>Metal</td>\n",
       "            <td>09:45</td>\n",
       "            <td>0.99</td>\n",
       "        </tr>\n",
       "        <tr>\n",
       "            <td>1895</td>\n",
       "            <td>Eye Of The Beholder</td>\n",
       "            <td>...And Justice For All</td>\n",
       "            <td>Metallica</td>\n",
       "            <td>James Hetfield, Lars Ulrich &amp; Kirk Hammett</td>\n",
       "            <td>MPEG audio file</td>\n",
       "            <td>Metal</td>\n",
       "            <td>06:25</td>\n",
       "            <td>0.99</td>\n",
       "        </tr>\n",
       "        <tr>\n",
       "            <td>1898</td>\n",
       "            <td>Harvester Of Sorrow</td>\n",
       "            <td>...And Justice For All</td>\n",
       "            <td>Metallica</td>\n",
       "            <td>James Hetfield and Lars Ulrich</td>\n",
       "            <td>MPEG audio file</td>\n",
       "            <td>Metal</td>\n",
       "            <td>05:45</td>\n",
       "            <td>0.99</td>\n",
       "        </tr>\n",
       "        <tr>\n",
       "            <td>1899</td>\n",
       "            <td>The Frayed Ends Of Sanity</td>\n",
       "            <td>...And Justice For All</td>\n",
       "            <td>Metallica</td>\n",
       "            <td>James Hetfield, Lars Ulrich and Kirk Hammett</td>\n",
       "            <td>MPEG audio file</td>\n",
       "            <td>Metal</td>\n",
       "            <td>07:44</td>\n",
       "            <td>0.99</td>\n",
       "        </tr>\n",
       "        <tr>\n",
       "            <td>1900</td>\n",
       "            <td>To Live Is To Die</td>\n",
       "            <td>...And Justice For All</td>\n",
       "            <td>Metallica</td>\n",
       "            <td>James Hetfield, Lars Ulrich and Cliff Burton</td>\n",
       "            <td>MPEG audio file</td>\n",
       "            <td>Metal</td>\n",
       "            <td>09:48</td>\n",
       "            <td>0.99</td>\n",
       "        </tr>\n",
       "        <tr>\n",
       "            <td>3290</td>\n",
       "            <td>The Zoo</td>\n",
       "            <td>20th Century Masters - The Millennium Collection: The Best of Scorpions</td>\n",
       "            <td>Scorpions</td>\n",
       "            <td>None</td>\n",
       "            <td>Protected AAC audio file</td>\n",
       "            <td>Rock</td>\n",
       "            <td>05:32</td>\n",
       "            <td>0.99</td>\n",
       "        </tr>\n",
       "        <tr>\n",
       "            <td>3291</td>\n",
       "            <td>Loving You Sunday Morning</td>\n",
       "            <td>20th Century Masters - The Millennium Collection: The Best of Scorpions</td>\n",
       "            <td>Scorpions</td>\n",
       "            <td>None</td>\n",
       "            <td>Protected AAC audio file</td>\n",
       "            <td>Rock</td>\n",
       "            <td>05:39</td>\n",
       "            <td>0.99</td>\n",
       "        </tr>\n",
       "        <tr>\n",
       "            <td>3292</td>\n",
       "            <td>Still Loving You</td>\n",
       "            <td>20th Century Masters - The Millennium Collection: The Best of Scorpions</td>\n",
       "            <td>Scorpions</td>\n",
       "            <td>None</td>\n",
       "            <td>Protected AAC audio file</td>\n",
       "            <td>Rock</td>\n",
       "            <td>06:30</td>\n",
       "            <td>0.99</td>\n",
       "        </tr>\n",
       "        <tr>\n",
       "            <td>3296</td>\n",
       "            <td>I Can&#x27;t Explain</td>\n",
       "            <td>20th Century Masters - The Millennium Collection: The Best of Scorpions</td>\n",
       "            <td>Scorpions</td>\n",
       "            <td>None</td>\n",
       "            <td>Protected AAC audio file</td>\n",
       "            <td>Rock</td>\n",
       "            <td>03:25</td>\n",
       "            <td>0.99</td>\n",
       "        </tr>\n",
       "    </tbody>\n",
       "</table>"
      ],
      "text/plain": [
       "[(1893, 'Blackened', '...And Justice For All', 'Metallica', 'James Hetfield, Lars Ulrich & Jason Newsted', 'MPEG audio file', 'Metal', '06:43', 0.99),\n",
       " (1894, '...And Justice For All', '...And Justice For All', 'Metallica', 'James Hetfield, Lars Ulrich & Kirk Hammett', 'MPEG audio file', 'Metal', '09:45', 0.99),\n",
       " (1895, 'Eye Of The Beholder', '...And Justice For All', 'Metallica', 'James Hetfield, Lars Ulrich & Kirk Hammett', 'MPEG audio file', 'Metal', '06:25', 0.99),\n",
       " (1898, 'Harvester Of Sorrow', '...And Justice For All', 'Metallica', 'James Hetfield and Lars Ulrich', 'MPEG audio file', 'Metal', '05:45', 0.99),\n",
       " (1899, 'The Frayed Ends Of Sanity', '...And Justice For All', 'Metallica', 'James Hetfield, Lars Ulrich and Kirk Hammett', 'MPEG audio file', 'Metal', '07:44', 0.99),\n",
       " (1900, 'To Live Is To Die', '...And Justice For All', 'Metallica', 'James Hetfield, Lars Ulrich and Cliff Burton', 'MPEG audio file', 'Metal', '09:48', 0.99),\n",
       " (3290, 'The Zoo', '20th Century Masters - The Millennium Collection: The Best of Scorpions', 'Scorpions', None, 'Protected AAC audio file', 'Rock', '05:32', 0.99),\n",
       " (3291, 'Loving You Sunday Morning', '20th Century Masters - The Millennium Collection: The Best of Scorpions', 'Scorpions', None, 'Protected AAC audio file', 'Rock', '05:39', 0.99),\n",
       " (3292, 'Still Loving You', '20th Century Masters - The Millennium Collection: The Best of Scorpions', 'Scorpions', None, 'Protected AAC audio file', 'Rock', '06:30', 0.99),\n",
       " (3296, \"I Can't Explain\", '20th Century Masters - The Millennium Collection: The Best of Scorpions', 'Scorpions', None, 'Protected AAC audio file', 'Rock', '03:25', 0.99)]"
      ]
     },
     "execution_count": 71,
     "metadata": {},
     "output_type": "execute_result"
    }
   ],
   "source": [
    "%%sql\n",
    "\n",
    "SELECT t.TrackId, t.Name AS TrackName, a.Title AS AlbumTitle, ar.Name AS ArtistName, t.Composer, m.Name AS MediaType, g.Name AS Genre, \n",
    "    strftime('%M:%S', t.Milliseconds / 1000, 'unixepoch') AS TrackLength, \n",
    "    SUM(il.UnitPrice * il.Quantity) AS TotalRevenue\n",
    "FROM Track t \n",
    "JOIN Album a ON t.AlbumId = a.AlbumId\n",
    "JOIN Artist ar ON a.ArtistId = ar.ArtistId\n",
    "JOIN MediaType m ON t.MediaTypeId = m.MediaTypeId\n",
    "JOIN Genre g ON t.GenreId = g.GenreId\n",
    "JOIN InvoiceLine il ON t.TrackId = il.TrackId\n",
    "GROUP BY t.TrackId\n",
    "ORDER BY a.Title ASC\n",
    "LIMIT 10;"
   ]
  },
  {
   "cell_type": "markdown",
   "metadata": {},
   "source": [
    "## Table Creation  and Foreign Keys"
   ]
  },
  {
   "cell_type": "markdown",
   "metadata": {},
   "source": [
    "> **QUESTION 7**: Create a new table `HallOfFame` to track the list of artists who have been added into the Chinook Hall of Fame. The table should contain three columns: \n",
    ">\n",
    "> 1. `HallOfFameId` (int): Primary key with [Auto Increment](https://www.sqlite.org/autoinc.html)\n",
    "> 2. `ArtistId` (int): Foreign key (from the Artist table)\n",
    "> 3. `YearAdded` (int): The year the artist was added to the hall of fame \n",
    ">\n",
    "> Once created, add 5 entries to the table (any artists of your choice)."
   ]
  },
  {
   "cell_type": "code",
   "execution_count": 72,
   "metadata": {
    "vscode": {
     "languageId": "sql"
    }
   },
   "outputs": [
    {
     "name": "stdout",
     "output_type": "stream",
     "text": [
      " * sqlite:///chinook.sqlite\n",
      "Done.\n",
      "1 rows affected.\n",
      "1 rows affected.\n",
      "1 rows affected.\n",
      "1 rows affected.\n",
      "1 rows affected.\n"
     ]
    },
    {
     "data": {
      "text/plain": [
       "[]"
      ]
     },
     "execution_count": 72,
     "metadata": {},
     "output_type": "execute_result"
    }
   ],
   "source": [
    "%%sql\n",
    "\n",
    "-- Create the HallOfFame table\n",
    "CREATE TABLE HallOfFame (\n",
    "    HallOfFameId INTEGER PRIMARY KEY AUTOINCREMENT,\n",
    "    ArtistId INTEGER,\n",
    "    YearAdded INTEGER,\n",
    "    FOREIGN KEY (ArtistId) REFERENCES Artist(ArtistId)\n",
    ");\n",
    "\n",
    "-- Insert 5 entries into the HallOfFame table\n",
    "INSERT INTO HallOfFame (ArtistId, YearAdded) VALUES (1, 2020);\n",
    "INSERT INTO HallOfFame (ArtistId, YearAdded) VALUES (2, 2018);\n",
    "INSERT INTO HallOfFame (ArtistId, YearAdded) VALUES (3, 2019);\n",
    "INSERT INTO HallOfFame (ArtistId, YearAdded) VALUES (4, 2021);\n",
    "INSERT INTO HallOfFame (ArtistId, YearAdded) VALUES (5, 2017);"
   ]
  },
  {
   "cell_type": "code",
   "execution_count": 73,
   "metadata": {
    "vscode": {
     "languageId": "sql"
    }
   },
   "outputs": [
    {
     "name": "stdout",
     "output_type": "stream",
     "text": [
      " * sqlite:///chinook.sqlite\n",
      "Done.\n"
     ]
    },
    {
     "data": {
      "text/html": [
       "<table>\n",
       "    <thead>\n",
       "        <tr>\n",
       "            <th>HallOfFameId</th>\n",
       "            <th>ArtistId</th>\n",
       "            <th>YearAdded</th>\n",
       "            <th>ArtistId_1</th>\n",
       "            <th>Name</th>\n",
       "        </tr>\n",
       "    </thead>\n",
       "    <tbody>\n",
       "        <tr>\n",
       "            <td>1</td>\n",
       "            <td>1</td>\n",
       "            <td>2020</td>\n",
       "            <td>1</td>\n",
       "            <td>AC/DC</td>\n",
       "        </tr>\n",
       "        <tr>\n",
       "            <td>2</td>\n",
       "            <td>2</td>\n",
       "            <td>2018</td>\n",
       "            <td>2</td>\n",
       "            <td>Accept</td>\n",
       "        </tr>\n",
       "        <tr>\n",
       "            <td>3</td>\n",
       "            <td>3</td>\n",
       "            <td>2019</td>\n",
       "            <td>3</td>\n",
       "            <td>Aerosmith</td>\n",
       "        </tr>\n",
       "        <tr>\n",
       "            <td>4</td>\n",
       "            <td>4</td>\n",
       "            <td>2021</td>\n",
       "            <td>4</td>\n",
       "            <td>Alanis Morissette</td>\n",
       "        </tr>\n",
       "        <tr>\n",
       "            <td>5</td>\n",
       "            <td>5</td>\n",
       "            <td>2017</td>\n",
       "            <td>5</td>\n",
       "            <td>Alice In Chains</td>\n",
       "        </tr>\n",
       "    </tbody>\n",
       "</table>"
      ],
      "text/plain": [
       "[(1, 1, 2020, 1, 'AC/DC'),\n",
       " (2, 2, 2018, 2, 'Accept'),\n",
       " (3, 3, 2019, 3, 'Aerosmith'),\n",
       " (4, 4, 2021, 4, 'Alanis Morissette'),\n",
       " (5, 5, 2017, 5, 'Alice In Chains')]"
      ]
     },
     "execution_count": 73,
     "metadata": {},
     "output_type": "execute_result"
    }
   ],
   "source": [
    "%%sql\n",
    "\n",
    "SELECT * FROM HallOfFame JOIN Artist ON HallOfFame.ArtistId=Artist.ArtistId"
   ]
  },
  {
   "cell_type": "markdown",
   "metadata": {},
   "source": [
    "## Inserting Data into Tables\n",
    "\n",
    "> **QUESTION 8**: Write SQL queries to insert the following records into the database:\n",
    "> \n",
    "> 1. A new artist called \"Linkin Park\"\n",
    "> 2. Two new albums for the artist Linkin Park:\n",
    ">     1. Hybrid Theory\n",
    ">     2. Meteora\n",
    "> 3. Six new tracks (come up with sensible values for columns like Composer, Milliseconds etc.):\n",
    ">     1. Papercut (in the album Hybrid Theory)\n",
    ">     2. In The End (in the album Hybrid Theory)\n",
    ">     3. Crawling (in the album Hybrid Theory)\n",
    ">     4. Somewhere I Belong (in the album Meteora)\n",
    ">     5. Numb (in the album Meteora)\n",
    ">     6. Breaking the Habit (in the album Meteora)\n",
    ">\n",
    "> *Hint*: You need not provide a value for the ID (primary key) columns while inserting these rows, because the ID columns are marked as [AUTO INCREMENT](https://www.sqlite.org/autoinc.html) and will automatically be assigned the next available numeric value."
   ]
  },
  {
   "cell_type": "code",
   "execution_count": 76,
   "metadata": {},
   "outputs": [
    {
     "name": "stdout",
     "output_type": "stream",
     "text": [
      " * sqlite:///chinook.sqlite\n",
      "1 rows affected.\n",
      "1 rows affected.\n",
      "1 rows affected.\n",
      "(sqlite3.IntegrityError) NOT NULL constraint failed: Track.MediaTypeId\n",
      "[SQL: -- 3. Insert six new tracks:\n",
      "-- Insert tracks for the album 'Hybrid Theory'\n",
      "INSERT INTO Track (Name, AlbumId, Composer, Milliseconds) VALUES ('Papercut', (SELECT AlbumId FROM Album WHERE Title = 'Hybrid Theory'), 'Linkin Park', 198000);]\n",
      "(Background on this error at: https://sqlalche.me/e/20/gkpj)\n"
     ]
    }
   ],
   "source": [
    "%%sql\n",
    "\n",
    "-- 1. Insert a new artist called \"Linkin Park\":\n",
    "INSERT INTO Artist (Name) VALUES ('Linkin Park');\n",
    "\n",
    "-- 2. Insert two new albums for the artist Linkin Park:\n",
    "INSERT INTO Album (Title, ArtistId) VALUES ('Hybrid Theory', (SELECT ArtistId FROM Artist WHERE Name = 'Linkin Park'));\n",
    "INSERT INTO Album (Title, ArtistId) VALUES ('Meteora', (SELECT ArtistId FROM Artist WHERE Name = 'Linkin Park'));\n",
    "\n",
    "-- 3. Insert six new tracks:\n",
    "-- Insert tracks for the album 'Hybrid Theory'\n",
    "INSERT INTO Track (Name, AlbumId, Composer, Milliseconds) VALUES ('Papercut', (SELECT AlbumId FROM Album WHERE Title = 'Hybrid Theory'), 'Linkin Park', 198000);\n",
    "INSERT INTO Track (Name, AlbumId, Composer, Milliseconds) VALUES ('In The End', (SELECT AlbumId FROM Album WHERE Title = 'Hybrid Theory'), 'Linkin Park', 216000);\n",
    "INSERT INTO Track (Name, AlbumId, Composer, Milliseconds) VALUES ('Crawling', (SELECT AlbumId FROM Album WHERE Title = 'Hybrid Theory'), 'Linkin Park', 211000);\n",
    "\n",
    "-- Insert tracks for the album 'Meteora'\n",
    "INSERT INTO Track (Name, AlbumId, Composer, Milliseconds) VALUES ('Somewhere I Belong', (SELECT AlbumId FROM Album WHERE Title = 'Meteora'), 'Linkin Park', 229000);\n",
    "INSERT INTO Track (Name, AlbumId, Composer, Milliseconds) VALUES ('Numb', (SELECT AlbumId FROM Album WHERE Title = 'Meteora'), 'Linkin Park', 186000);\n",
    "INSERT INTO Track (Name, AlbumId, Composer, Milliseconds) VALUES ('Breaking the Habit', (SELECT AlbumId FROM Album WHERE Title = 'Meteora'), 'Linkin Park', 197000);"
   ]
  },
  {
   "cell_type": "code",
   "execution_count": 77,
   "metadata": {},
   "outputs": [
    {
     "name": "stdout",
     "output_type": "stream",
     "text": [
      " * sqlite:///chinook.sqlite\n",
      "Done.\n"
     ]
    },
    {
     "data": {
      "text/html": [
       "<table>\n",
       "    <thead>\n",
       "        <tr>\n",
       "            <th>ArtistId</th>\n",
       "            <th>Name</th>\n",
       "        </tr>\n",
       "    </thead>\n",
       "    <tbody>\n",
       "        <tr>\n",
       "            <td>276</td>\n",
       "            <td>Linkin Park</td>\n",
       "        </tr>\n",
       "    </tbody>\n",
       "</table>"
      ],
      "text/plain": [
       "[(276, 'Linkin Park')]"
      ]
     },
     "execution_count": 77,
     "metadata": {},
     "output_type": "execute_result"
    }
   ],
   "source": [
    "%%sql\n",
    "\n",
    "SELECT * FROM Artist WHERE Name=\"Linkin Park\""
   ]
  },
  {
   "cell_type": "code",
   "execution_count": 78,
   "metadata": {},
   "outputs": [
    {
     "name": "stdout",
     "output_type": "stream",
     "text": [
      " * sqlite:///chinook.sqlite\n",
      "Done.\n"
     ]
    },
    {
     "data": {
      "text/html": [
       "<table>\n",
       "    <thead>\n",
       "        <tr>\n",
       "            <th>AlbumId</th>\n",
       "            <th>Title</th>\n",
       "            <th>ArtistId</th>\n",
       "            <th>ArtistId_1</th>\n",
       "            <th>Name</th>\n",
       "        </tr>\n",
       "    </thead>\n",
       "    <tbody>\n",
       "        <tr>\n",
       "            <td>348</td>\n",
       "            <td>Hybrid Theory</td>\n",
       "            <td>276</td>\n",
       "            <td>276</td>\n",
       "            <td>Linkin Park</td>\n",
       "        </tr>\n",
       "        <tr>\n",
       "            <td>349</td>\n",
       "            <td>Meteora</td>\n",
       "            <td>276</td>\n",
       "            <td>276</td>\n",
       "            <td>Linkin Park</td>\n",
       "        </tr>\n",
       "    </tbody>\n",
       "</table>"
      ],
      "text/plain": [
       "[(348, 'Hybrid Theory', 276, 276, 'Linkin Park'),\n",
       " (349, 'Meteora', 276, 276, 'Linkin Park')]"
      ]
     },
     "execution_count": 78,
     "metadata": {},
     "output_type": "execute_result"
    }
   ],
   "source": [
    "%%sql\n",
    "\n",
    "SELECT * FROM Album JOIN Artist on Album.ArtistId=Artist.ArtistId WHERE Artist.Name=\"Linkin Park\""
   ]
  },
  {
   "cell_type": "code",
   "execution_count": 79,
   "metadata": {},
   "outputs": [
    {
     "name": "stdout",
     "output_type": "stream",
     "text": [
      " * sqlite:///chinook.sqlite\n",
      "Done.\n"
     ]
    },
    {
     "data": {
      "text/html": [
       "<table>\n",
       "    <thead>\n",
       "        <tr>\n",
       "            <th>TrackId</th>\n",
       "            <th>Name</th>\n",
       "            <th>AlbumId</th>\n",
       "            <th>MediaTypeId</th>\n",
       "            <th>GenreId</th>\n",
       "            <th>Composer</th>\n",
       "            <th>Milliseconds</th>\n",
       "            <th>Bytes</th>\n",
       "            <th>UnitPrice</th>\n",
       "            <th>AlbumId_1</th>\n",
       "            <th>Title</th>\n",
       "            <th>ArtistId</th>\n",
       "            <th>ArtistId_1</th>\n",
       "            <th>Name_1</th>\n",
       "        </tr>\n",
       "    </thead>\n",
       "    <tbody>\n",
       "    </tbody>\n",
       "</table>"
      ],
      "text/plain": [
       "[]"
      ]
     },
     "execution_count": 79,
     "metadata": {},
     "output_type": "execute_result"
    }
   ],
   "source": [
    "%%sql\n",
    "\n",
    "SELECT * \n",
    "    FROM Track JOIN Album\n",
    "    ON Track.AlbumId=Album.AlbumId\n",
    "    JOIN Artist\n",
    "    ON Album.ArtistId=Artist.ArtistId \n",
    "    WHERE Artist.Name=\"Linkin Park\""
   ]
  },
  {
   "cell_type": "code",
   "execution_count": null,
   "metadata": {},
   "outputs": [],
   "source": []
  }
 ],
 "metadata": {
  "kernelspec": {
   "display_name": ".venv",
   "language": "python",
   "name": "python3"
  },
  "language_info": {
   "codemirror_mode": {
    "name": "ipython",
    "version": 3
   },
   "file_extension": ".py",
   "mimetype": "text/x-python",
   "name": "python",
   "nbconvert_exporter": "python",
   "pygments_lexer": "ipython3",
   "version": "3.12.3"
  }
 },
 "nbformat": 4,
 "nbformat_minor": 2
}
